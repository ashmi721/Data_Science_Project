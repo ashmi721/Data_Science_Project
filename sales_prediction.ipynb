{
 "cells": [
  {
   "cell_type": "code",
   "execution_count": 1,
   "metadata": {},
   "outputs": [],
   "source": [
    "import pandas as pd\n",
    "import numpy as np\n",
    "import matplotlib.pyplot as plt\n",
    "import seaborn as sns"
   ]
  },
  {
   "cell_type": "code",
   "execution_count": 2,
   "metadata": {},
   "outputs": [
    {
     "data": {
      "text/html": [
       "<div>\n",
       "<style scoped>\n",
       "    .dataframe tbody tr th:only-of-type {\n",
       "        vertical-align: middle;\n",
       "    }\n",
       "\n",
       "    .dataframe tbody tr th {\n",
       "        vertical-align: top;\n",
       "    }\n",
       "\n",
       "    .dataframe thead th {\n",
       "        text-align: right;\n",
       "    }\n",
       "</style>\n",
       "<table border=\"1\" class=\"dataframe\">\n",
       "  <thead>\n",
       "    <tr style=\"text-align: right;\">\n",
       "      <th></th>\n",
       "      <th>Unnamed: 0</th>\n",
       "      <th>TV</th>\n",
       "      <th>radio</th>\n",
       "      <th>newspaper</th>\n",
       "      <th>sales</th>\n",
       "    </tr>\n",
       "  </thead>\n",
       "  <tbody>\n",
       "    <tr>\n",
       "      <th>0</th>\n",
       "      <td>1</td>\n",
       "      <td>230.1</td>\n",
       "      <td>37.8</td>\n",
       "      <td>69.2</td>\n",
       "      <td>22.1</td>\n",
       "    </tr>\n",
       "    <tr>\n",
       "      <th>1</th>\n",
       "      <td>2</td>\n",
       "      <td>44.5</td>\n",
       "      <td>39.3</td>\n",
       "      <td>45.1</td>\n",
       "      <td>10.4</td>\n",
       "    </tr>\n",
       "    <tr>\n",
       "      <th>2</th>\n",
       "      <td>3</td>\n",
       "      <td>17.2</td>\n",
       "      <td>45.9</td>\n",
       "      <td>69.3</td>\n",
       "      <td>9.3</td>\n",
       "    </tr>\n",
       "    <tr>\n",
       "      <th>3</th>\n",
       "      <td>4</td>\n",
       "      <td>151.5</td>\n",
       "      <td>41.3</td>\n",
       "      <td>58.5</td>\n",
       "      <td>18.5</td>\n",
       "    </tr>\n",
       "    <tr>\n",
       "      <th>4</th>\n",
       "      <td>5</td>\n",
       "      <td>180.8</td>\n",
       "      <td>10.8</td>\n",
       "      <td>58.4</td>\n",
       "      <td>12.9</td>\n",
       "    </tr>\n",
       "  </tbody>\n",
       "</table>\n",
       "</div>"
      ],
      "text/plain": [
       "   Unnamed: 0     TV  radio  newspaper  sales\n",
       "0           1  230.1   37.8       69.2   22.1\n",
       "1           2   44.5   39.3       45.1   10.4\n",
       "2           3   17.2   45.9       69.3    9.3\n",
       "3           4  151.5   41.3       58.5   18.5\n",
       "4           5  180.8   10.8       58.4   12.9"
      ]
     },
     "execution_count": 2,
     "metadata": {},
     "output_type": "execute_result"
    }
   ],
   "source": [
    "df = pd.read_csv(r'C:\\Users\\ashmi\\OneDrive\\Desktop\\Data science project\\Data_Science_Project\\Dataset\\ads.csv')\n",
    "df.head()"
   ]
  },
  {
   "cell_type": "code",
   "execution_count": 3,
   "metadata": {},
   "outputs": [
    {
     "data": {
      "text/plain": [
       "(200, 5)"
      ]
     },
     "execution_count": 3,
     "metadata": {},
     "output_type": "execute_result"
    }
   ],
   "source": [
    "df.shape"
   ]
  },
  {
   "cell_type": "code",
   "execution_count": 4,
   "metadata": {},
   "outputs": [
    {
     "data": {
      "text/plain": [
       "Index(['Unnamed: 0', 'TV', 'radio', 'newspaper', 'sales'], dtype='object')"
      ]
     },
     "execution_count": 4,
     "metadata": {},
     "output_type": "execute_result"
    }
   ],
   "source": [
    "df.columns"
   ]
  },
  {
   "cell_type": "markdown",
   "metadata": {},
   "source": [
    "\n",
    "## Data profiling and Inspection"
   ]
  },
  {
   "cell_type": "code",
   "execution_count": 5,
   "metadata": {},
   "outputs": [
    {
     "name": "stdout",
     "output_type": "stream",
     "text": [
      "<class 'pandas.core.frame.DataFrame'>\n",
      "RangeIndex: 200 entries, 0 to 199\n",
      "Data columns (total 5 columns):\n",
      " #   Column      Non-Null Count  Dtype  \n",
      "---  ------      --------------  -----  \n",
      " 0   Unnamed: 0  200 non-null    int64  \n",
      " 1   TV          200 non-null    float64\n",
      " 2   radio       200 non-null    float64\n",
      " 3   newspaper   200 non-null    float64\n",
      " 4   sales       200 non-null    float64\n",
      "dtypes: float64(4), int64(1)\n",
      "memory usage: 7.9 KB\n"
     ]
    }
   ],
   "source": [
    "df.info()"
   ]
  },
  {
   "cell_type": "markdown",
   "metadata": {},
   "source": [
    "* The dataset has 200 entities/rows. However each columns has 200 not-null rows which means 0 rows are missing."
   ]
  },
  {
   "cell_type": "code",
   "execution_count": 6,
   "metadata": {},
   "outputs": [
    {
     "data": {
      "text/html": [
       "<style type=\"text/css\">\n",
       "#T_479ba_row3_col0, #T_479ba_row3_col1, #T_479ba_row3_col2, #T_479ba_row3_col3, #T_479ba_row3_col4 {\n",
       "  color: Black;\n",
       "  background-color: Grey;\n",
       "}\n",
       "</style>\n",
       "<table id=\"T_479ba\">\n",
       "  <thead>\n",
       "    <tr>\n",
       "      <th class=\"blank level0\" >&nbsp;</th>\n",
       "      <th id=\"T_479ba_level0_col0\" class=\"col_heading level0 col0\" >Unnamed: 0</th>\n",
       "      <th id=\"T_479ba_level0_col1\" class=\"col_heading level0 col1\" >TV</th>\n",
       "      <th id=\"T_479ba_level0_col2\" class=\"col_heading level0 col2\" >radio</th>\n",
       "      <th id=\"T_479ba_level0_col3\" class=\"col_heading level0 col3\" >newspaper</th>\n",
       "      <th id=\"T_479ba_level0_col4\" class=\"col_heading level0 col4\" >sales</th>\n",
       "    </tr>\n",
       "  </thead>\n",
       "  <tbody>\n",
       "    <tr>\n",
       "      <th id=\"T_479ba_level0_row0\" class=\"row_heading level0 row0\" >count</th>\n",
       "      <td id=\"T_479ba_row0_col0\" class=\"data row0 col0\" >200.000000</td>\n",
       "      <td id=\"T_479ba_row0_col1\" class=\"data row0 col1\" >200.000000</td>\n",
       "      <td id=\"T_479ba_row0_col2\" class=\"data row0 col2\" >200.000000</td>\n",
       "      <td id=\"T_479ba_row0_col3\" class=\"data row0 col3\" >200.000000</td>\n",
       "      <td id=\"T_479ba_row0_col4\" class=\"data row0 col4\" >200.000000</td>\n",
       "    </tr>\n",
       "    <tr>\n",
       "      <th id=\"T_479ba_level0_row1\" class=\"row_heading level0 row1\" >mean</th>\n",
       "      <td id=\"T_479ba_row1_col0\" class=\"data row1 col0\" >100.500000</td>\n",
       "      <td id=\"T_479ba_row1_col1\" class=\"data row1 col1\" >147.042500</td>\n",
       "      <td id=\"T_479ba_row1_col2\" class=\"data row1 col2\" >23.264000</td>\n",
       "      <td id=\"T_479ba_row1_col3\" class=\"data row1 col3\" >30.554000</td>\n",
       "      <td id=\"T_479ba_row1_col4\" class=\"data row1 col4\" >14.022500</td>\n",
       "    </tr>\n",
       "    <tr>\n",
       "      <th id=\"T_479ba_level0_row2\" class=\"row_heading level0 row2\" >std</th>\n",
       "      <td id=\"T_479ba_row2_col0\" class=\"data row2 col0\" >57.879185</td>\n",
       "      <td id=\"T_479ba_row2_col1\" class=\"data row2 col1\" >85.854236</td>\n",
       "      <td id=\"T_479ba_row2_col2\" class=\"data row2 col2\" >14.846809</td>\n",
       "      <td id=\"T_479ba_row2_col3\" class=\"data row2 col3\" >21.778621</td>\n",
       "      <td id=\"T_479ba_row2_col4\" class=\"data row2 col4\" >5.217457</td>\n",
       "    </tr>\n",
       "    <tr>\n",
       "      <th id=\"T_479ba_level0_row3\" class=\"row_heading level0 row3\" >min</th>\n",
       "      <td id=\"T_479ba_row3_col0\" class=\"data row3 col0\" >1.000000</td>\n",
       "      <td id=\"T_479ba_row3_col1\" class=\"data row3 col1\" >0.700000</td>\n",
       "      <td id=\"T_479ba_row3_col2\" class=\"data row3 col2\" >0.000000</td>\n",
       "      <td id=\"T_479ba_row3_col3\" class=\"data row3 col3\" >0.300000</td>\n",
       "      <td id=\"T_479ba_row3_col4\" class=\"data row3 col4\" >1.600000</td>\n",
       "    </tr>\n",
       "    <tr>\n",
       "      <th id=\"T_479ba_level0_row4\" class=\"row_heading level0 row4\" >25%</th>\n",
       "      <td id=\"T_479ba_row4_col0\" class=\"data row4 col0\" >50.750000</td>\n",
       "      <td id=\"T_479ba_row4_col1\" class=\"data row4 col1\" >74.375000</td>\n",
       "      <td id=\"T_479ba_row4_col2\" class=\"data row4 col2\" >9.975000</td>\n",
       "      <td id=\"T_479ba_row4_col3\" class=\"data row4 col3\" >12.750000</td>\n",
       "      <td id=\"T_479ba_row4_col4\" class=\"data row4 col4\" >10.375000</td>\n",
       "    </tr>\n",
       "    <tr>\n",
       "      <th id=\"T_479ba_level0_row5\" class=\"row_heading level0 row5\" >50%</th>\n",
       "      <td id=\"T_479ba_row5_col0\" class=\"data row5 col0\" >100.500000</td>\n",
       "      <td id=\"T_479ba_row5_col1\" class=\"data row5 col1\" >149.750000</td>\n",
       "      <td id=\"T_479ba_row5_col2\" class=\"data row5 col2\" >22.900000</td>\n",
       "      <td id=\"T_479ba_row5_col3\" class=\"data row5 col3\" >25.750000</td>\n",
       "      <td id=\"T_479ba_row5_col4\" class=\"data row5 col4\" >12.900000</td>\n",
       "    </tr>\n",
       "    <tr>\n",
       "      <th id=\"T_479ba_level0_row6\" class=\"row_heading level0 row6\" >75%</th>\n",
       "      <td id=\"T_479ba_row6_col0\" class=\"data row6 col0\" >150.250000</td>\n",
       "      <td id=\"T_479ba_row6_col1\" class=\"data row6 col1\" >218.825000</td>\n",
       "      <td id=\"T_479ba_row6_col2\" class=\"data row6 col2\" >36.525000</td>\n",
       "      <td id=\"T_479ba_row6_col3\" class=\"data row6 col3\" >45.100000</td>\n",
       "      <td id=\"T_479ba_row6_col4\" class=\"data row6 col4\" >17.400000</td>\n",
       "    </tr>\n",
       "    <tr>\n",
       "      <th id=\"T_479ba_level0_row7\" class=\"row_heading level0 row7\" >max</th>\n",
       "      <td id=\"T_479ba_row7_col0\" class=\"data row7 col0\" >200.000000</td>\n",
       "      <td id=\"T_479ba_row7_col1\" class=\"data row7 col1\" >296.400000</td>\n",
       "      <td id=\"T_479ba_row7_col2\" class=\"data row7 col2\" >49.600000</td>\n",
       "      <td id=\"T_479ba_row7_col3\" class=\"data row7 col3\" >114.000000</td>\n",
       "      <td id=\"T_479ba_row7_col4\" class=\"data row7 col4\" >27.000000</td>\n",
       "    </tr>\n",
       "  </tbody>\n",
       "</table>\n"
      ],
      "text/plain": [
       "<pandas.io.formats.style.Styler at 0x18c5e275f90>"
      ]
     },
     "execution_count": 6,
     "metadata": {},
     "output_type": "execute_result"
    }
   ],
   "source": [
    "\n",
    "#This function highlight the minimum values for every columns\n",
    "def highlight_min(s,props = ''):\n",
    "    return np.where(s == np.nanmin(s.values), props,'')\n",
    "\n",
    "df.describe().style.apply(highlight_min,props='color:Black;background-color:Grey')"
   ]
  },
  {
   "cell_type": "markdown",
   "metadata": {},
   "source": [
    "This summary shows the radio columns has minimum values of below zero(0).\n",
    "\n",
    "So, on these columns, a value of Zero does not make sense and thus indicates missing value.\n",
    "\n"
   ]
  },
  {
   "cell_type": "code",
   "execution_count": 7,
   "metadata": {},
   "outputs": [
    {
     "data": {
      "text/plain": [
       "Unnamed: 0    0\n",
       "TV            0\n",
       "radio         0\n",
       "newspaper     0\n",
       "sales         0\n",
       "dtype: int64"
      ]
     },
     "execution_count": 7,
     "metadata": {},
     "output_type": "execute_result"
    }
   ],
   "source": [
    "df.isna().sum()"
   ]
  },
  {
   "cell_type": "markdown",
   "metadata": {},
   "source": [
    "<b> Missing data Handling</b>"
   ]
  },
  {
   "cell_type": "code",
   "execution_count": 8,
   "metadata": {},
   "outputs": [],
   "source": [
    "df_new = df\n",
    "df_new[['radio']] = df_new[['radio']].replace(0,np.NaN)"
   ]
  },
  {
   "cell_type": "code",
   "execution_count": 9,
   "metadata": {},
   "outputs": [
    {
     "data": {
      "text/plain": [
       "Unnamed: 0    0\n",
       "TV            0\n",
       "radio         1\n",
       "newspaper     0\n",
       "sales         0\n",
       "dtype: int64"
      ]
     },
     "execution_count": 9,
     "metadata": {},
     "output_type": "execute_result"
    }
   ],
   "source": [
    "df.isna().sum()"
   ]
  },
  {
   "cell_type": "code",
   "execution_count": 10,
   "metadata": {},
   "outputs": [
    {
     "data": {
      "text/plain": [
       "<Axes: >"
      ]
     },
     "execution_count": 10,
     "metadata": {},
     "output_type": "execute_result"
    },
    {
     "data": {
      "image/png": "[encoded data removed]",
      "text/plain": [
       "<Figure size 640x480 with 1 Axes>"
      ]
     },
     "metadata": {},
     "output_type": "display_data"
    }
   ],
   "source": [
    "# To visulize the outlier\n",
    "sns.boxplot(df)"
   ]
  },
  {
   "cell_type": "code",
   "execution_count": 11,
   "metadata": {},
   "outputs": [],
   "source": [
    "df_new['radio'].fillna(df_new['radio'].mean(),inplace=True) "
   ]
  },
  {
   "cell_type": "code",
   "execution_count": 12,
   "metadata": {},
   "outputs": [
    {
     "data": {
      "text/plain": [
       "Unnamed: 0    0\n",
       "TV            0\n",
       "radio         0\n",
       "newspaper     0\n",
       "sales         0\n",
       "dtype: int64"
      ]
     },
     "execution_count": 12,
     "metadata": {},
     "output_type": "execute_result"
    }
   ],
   "source": [
    "df.isna().sum()"
   ]
  },
  {
   "cell_type": "markdown",
   "metadata": {},
   "source": [
    "* Drop the unessesary column Unnamed: 0 because it only store the number of the rows data."
   ]
  },
  {
   "cell_type": "code",
   "execution_count": 13,
   "metadata": {},
   "outputs": [],
   "source": [
    "df.drop(columns=['Unnamed: 0'],inplace=True)"
   ]
  },
  {
   "cell_type": "code",
   "execution_count": 14,
   "metadata": {},
   "outputs": [
    {
     "data": {
      "text/plain": [
       "Index(['TV', 'radio', 'newspaper', 'sales'], dtype='object')"
      ]
     },
     "execution_count": 14,
     "metadata": {},
     "output_type": "execute_result"
    }
   ],
   "source": [
    "df.columns"
   ]
  },
  {
   "cell_type": "code",
   "execution_count": 15,
   "metadata": {},
   "outputs": [
    {
     "data": {
      "text/plain": [
       "Text(0.5, 1.0, 'Histogram frequency of TV')"
      ]
     },
     "execution_count": 15,
     "metadata": {},
     "output_type": "execute_result"
    },
    {
     "data": {
      "image/png": "[encoded data removed]",
      "text/plain": [
       "<Figure size 640x480 with 1 Axes>"
      ]
     },
     "metadata": {},
     "output_type": "display_data"
    }
   ],
   "source": [
    "sns.histplot(df['TV'],kde=True)\n",
    "plt.title(\"Histogram frequency of TV\")"
   ]
  },
  {
   "cell_type": "code",
   "execution_count": 16,
   "metadata": {},
   "outputs": [
    {
     "data": {
      "text/plain": [
       "Text(0.5, 1.0, 'Histogram frequency of Radio')"
      ]
     },
     "execution_count": 16,
     "metadata": {},
     "output_type": "execute_result"
    },
    {
     "data": {
      "image/png": "[encoded data removed]",
      "text/plain": [
       "<Figure size 640x480 with 1 Axes>"
      ]
     },
     "metadata": {},
     "output_type": "display_data"
    }
   ],
   "source": [
    "sns.histplot(df['radio'],kde=True)\n",
    "plt.title(\"Histogram frequency of Radio\")"
   ]
  },
  {
   "cell_type": "code",
   "execution_count": 17,
   "metadata": {},
   "outputs": [
    {
     "data": {
      "text/plain": [
       "Text(0.5, 1.0, 'Histogram frequency of Newspaper')"
      ]
     },
     "execution_count": 17,
     "metadata": {},
     "output_type": "execute_result"
    },
    {
     "data": {
      "image/png": "[encoded data removed]",
      "text/plain": [
       "<Figure size 640x480 with 1 Axes>"
      ]
     },
     "metadata": {},
     "output_type": "display_data"
    }
   ],
   "source": [
    "sns.histplot(df['newspaper'],kde=True)\n",
    "plt.title(\"Histogram frequency of Newspaper\")"
   ]
  },
  {
   "cell_type": "markdown",
   "metadata": {},
   "source": [
    "## Identifying dependent and independent variable\n",
    "\n",
    "Dependent variable(y) => Sales\n",
    "\n",
    "Independent variable(x) => TV,Radio,Newspaper"
   ]
  },
  {
   "cell_type": "markdown",
   "metadata": {},
   "source": [
    "## Features selection"
   ]
  },
  {
   "cell_type": "code",
   "execution_count": 18,
   "metadata": {},
   "outputs": [
    {
     "data": {
      "text/plain": [
       "<Axes: >"
      ]
     },
     "execution_count": 18,
     "metadata": {},
     "output_type": "execute_result"
    },
    {
     "data": {
      "image/png": "[encoded data removed]",
      "text/plain": [
       "<Figure size 640x480 with 2 Axes>"
      ]
     },
     "metadata": {},
     "output_type": "display_data"
    }
   ],
   "source": [
    "sns.heatmap(df.corr(numeric_only=True),annot=True)"
   ]
  },
  {
   "cell_type": "markdown",
   "metadata": {},
   "source": [
    "* The target sales(y) has positive correlation 0.78 with TV, 0.57 with radio and 0.23 with newspaper.\n",
    "\n",
    "\n",
    "so, we use TV as a independent variable because\n",
    "  * TV is more correlated with sales than others.\n",
    "  * In current time everyone use the smartphone or socialmedia so it more easily available in inference time.\n",
    " "
   ]
  },
  {
   "cell_type": "code",
   "execution_count": 19,
   "metadata": {},
   "outputs": [],
   "source": [
    "X = df['TV']\n",
    "y = df.sales"
   ]
  },
  {
   "cell_type": "code",
   "execution_count": 20,
   "metadata": {},
   "outputs": [],
   "source": [
    "X_array = np.array(X)\n",
    "X = X_array.reshape(-1,1)"
   ]
  },
  {
   "cell_type": "code",
   "execution_count": 21,
   "metadata": {},
   "outputs": [
    {
     "data": {
      "text/plain": [
       "array([[230.1],\n",
       "       [ 44.5],\n",
       "       [ 17.2],\n",
       "       [151.5],\n",
       "       [180.8],\n",
       "       [  8.7],\n",
       "       [ 57.5],\n",
       "       [120.2],\n",
       "       [  8.6],\n",
       "       [199.8],\n",
       "       [ 66.1],\n",
       "       [214.7],\n",
       "       [ 23.8],\n",
       "       [ 97.5],\n",
       "       [204.1],\n",
       "       [195.4],\n",
       "       [ 67.8],\n",
       "       [281.4],\n",
       "       [ 69.2],\n",
       "       [147.3],\n",
       "       [218.4],\n",
       "       [237.4],\n",
       "       [ 13.2],\n",
       "       [228.3],\n",
       "       [ 62.3],\n",
       "       [262.9],\n",
       "       [142.9],\n",
       "       [240.1],\n",
       "       [248.8],\n",
       "       [ 70.6],\n",
       "       [292.9],\n",
       "       [112.9],\n",
       "       [ 97.2],\n",
       "       [265.6],\n",
       "       [ 95.7],\n",
       "       [290.7],\n",
       "       [266.9],\n",
       "       [ 74.7],\n",
       "       [ 43.1],\n",
       "       [228. ],\n",
       "       [202.5],\n",
       "       [177. ],\n",
       "       [293.6],\n",
       "       [206.9],\n",
       "       [ 25.1],\n",
       "       [175.1],\n",
       "       [ 89.7],\n",
       "       [239.9],\n",
       "       [227.2],\n",
       "       [ 66.9],\n",
       "       [199.8],\n",
       "       [100.4],\n",
       "       [216.4],\n",
       "       [182.6],\n",
       "       [262.7],\n",
       "       [198.9],\n",
       "       [  7.3],\n",
       "       [136.2],\n",
       "       [210.8],\n",
       "       [210.7],\n",
       "       [ 53.5],\n",
       "       [261.3],\n",
       "       [239.3],\n",
       "       [102.7],\n",
       "       [131.1],\n",
       "       [ 69. ],\n",
       "       [ 31.5],\n",
       "       [139.3],\n",
       "       [237.4],\n",
       "       [216.8],\n",
       "       [199.1],\n",
       "       [109.8],\n",
       "       [ 26.8],\n",
       "       [129.4],\n",
       "       [213.4],\n",
       "       [ 16.9],\n",
       "       [ 27.5],\n",
       "       [120.5],\n",
       "       [  5.4],\n",
       "       [116. ],\n",
       "       [ 76.4],\n",
       "       [239.8],\n",
       "       [ 75.3],\n",
       "       [ 68.4],\n",
       "       [213.5],\n",
       "       [193.2],\n",
       "       [ 76.3],\n",
       "       [110.7],\n",
       "       [ 88.3],\n",
       "       [109.8],\n",
       "       [134.3],\n",
       "       [ 28.6],\n",
       "       [217.7],\n",
       "       [250.9],\n",
       "       [107.4],\n",
       "       [163.3],\n",
       "       [197.6],\n",
       "       [184.9],\n",
       "       [289.7],\n",
       "       [135.2],\n",
       "       [222.4],\n",
       "       [296.4],\n",
       "       [280.2],\n",
       "       [187.9],\n",
       "       [238.2],\n",
       "       [137.9],\n",
       "       [ 25. ],\n",
       "       [ 90.4],\n",
       "       [ 13.1],\n",
       "       [255.4],\n",
       "       [225.8],\n",
       "       [241.7],\n",
       "       [175.7],\n",
       "       [209.6],\n",
       "       [ 78.2],\n",
       "       [ 75.1],\n",
       "       [139.2],\n",
       "       [ 76.4],\n",
       "       [125.7],\n",
       "       [ 19.4],\n",
       "       [141.3],\n",
       "       [ 18.8],\n",
       "       [224. ],\n",
       "       [123.1],\n",
       "       [229.5],\n",
       "       [ 87.2],\n",
       "       [  7.8],\n",
       "       [ 80.2],\n",
       "       [220.3],\n",
       "       [ 59.6],\n",
       "       [  0.7],\n",
       "       [265.2],\n",
       "       [  8.4],\n",
       "       [219.8],\n",
       "       [ 36.9],\n",
       "       [ 48.3],\n",
       "       [ 25.6],\n",
       "       [273.7],\n",
       "       [ 43. ],\n",
       "       [184.9],\n",
       "       [ 73.4],\n",
       "       [193.7],\n",
       "       [220.5],\n",
       "       [104.6],\n",
       "       [ 96.2],\n",
       "       [140.3],\n",
       "       [240.1],\n",
       "       [243.2],\n",
       "       [ 38. ],\n",
       "       [ 44.7],\n",
       "       [280.7],\n",
       "       [121. ],\n",
       "       [197.6],\n",
       "       [171.3],\n",
       "       [187.8],\n",
       "       [  4.1],\n",
       "       [ 93.9],\n",
       "       [149.8],\n",
       "       [ 11.7],\n",
       "       [131.7],\n",
       "       [172.5],\n",
       "       [ 85.7],\n",
       "       [188.4],\n",
       "       [163.5],\n",
       "       [117.2],\n",
       "       [234.5],\n",
       "       [ 17.9],\n",
       "       [206.8],\n",
       "       [215.4],\n",
       "       [284.3],\n",
       "       [ 50. ],\n",
       "       [164.5],\n",
       "       [ 19.6],\n",
       "       [168.4],\n",
       "       [222.4],\n",
       "       [276.9],\n",
       "       [248.4],\n",
       "       [170.2],\n",
       "       [276.7],\n",
       "       [165.6],\n",
       "       [156.6],\n",
       "       [218.5],\n",
       "       [ 56.2],\n",
       "       [287.6],\n",
       "       [253.8],\n",
       "       [205. ],\n",
       "       [139.5],\n",
       "       [191.1],\n",
       "       [286. ],\n",
       "       [ 18.7],\n",
       "       [ 39.5],\n",
       "       [ 75.5],\n",
       "       [ 17.2],\n",
       "       [166.8],\n",
       "       [149.7],\n",
       "       [ 38.2],\n",
       "       [ 94.2],\n",
       "       [177. ],\n",
       "       [283.6],\n",
       "       [232.1]])"
      ]
     },
     "execution_count": 21,
     "metadata": {},
     "output_type": "execute_result"
    }
   ],
   "source": [
    "X"
   ]
  },
  {
   "cell_type": "code",
   "execution_count": 22,
   "metadata": {},
   "outputs": [
    {
     "data": {
      "text/plain": [
       "<matplotlib.collections.PathCollection at 0x18c6265f990>"
      ]
     },
     "execution_count": 22,
     "metadata": {},
     "output_type": "execute_result"
    },
    {
     "data": {
      "image/png": "[encoded data removed]",
      "text/plain": [
       "<Figure size 640x480 with 1 Axes>"
      ]
     },
     "metadata": {},
     "output_type": "display_data"
    }
   ],
   "source": [
    "plt.scatter(x=X,y=y)"
   ]
  },
  {
   "cell_type": "markdown",
   "metadata": {},
   "source": [
    "## Train the model using Single LinearRegression, Lasso and Ridge"
   ]
  },
  {
   "cell_type": "code",
   "execution_count": 23,
   "metadata": {},
   "outputs": [],
   "source": [
    "from sklearn.model_selection import train_test_split\n",
    "X_train,X_test,y_train,y_test = train_test_split(X,y,test_size=0.2,random_state=0)"
   ]
  },
  {
   "cell_type": "code",
   "execution_count": 24,
   "metadata": {},
   "outputs": [],
   "source": [
    "from sklearn.linear_model import LinearRegression,Lasso,Ridge\n",
    "modelLinear = LinearRegression()\n",
    "modelLasso = Lasso()\n",
    "modelRidge = Ridge()\n"
   ]
  },
  {
   "cell_type": "code",
   "execution_count": 32,
   "metadata": {},
   "outputs": [],
   "source": [
    "modelLinear.fit(X_train,y_train)\n",
    "y_pred1 = modelLinear.predict(X_test)"
   ]
  },
  {
   "cell_type": "code",
   "execution_count": 34,
   "metadata": {},
   "outputs": [],
   "source": [
    "modelLasso.fit(X_train,y_train)\n",
    "y_pred2 = modelLasso.predict(X_test)"
   ]
  },
  {
   "cell_type": "code",
   "execution_count": 35,
   "metadata": {},
   "outputs": [],
   "source": [
    "modelRidge.fit(X_train,y_train)\n",
    "y_pred3 = modelRidge.predict(X_test)"
   ]
  },
  {
   "cell_type": "markdown",
   "metadata": {},
   "source": [
    "## Evaluation of metrics\n",
    "  * Mean Absolute Error (MAE): Average of the absolute errors between predicted and actual values.\n",
    "  * Mean Squared Error (MSE): Average of the squared errors between predicted and actual values.\n",
    "  * Root Mean Squared Error (RMSE): Square root of the MSE, which provides an interpretable measure in the same units as the target variable.\n",
    "  * R-squared (R²): Proportion of the variance in the dependent variable that is predictable from the independent variables. It ranges from 0 to 1, where 1 indicates a perfect fit."
   ]
  },
  {
   "cell_type": "code",
   "execution_count": 45,
   "metadata": {},
   "outputs": [
    {
     "name": "stdout",
     "output_type": "stream",
     "text": [
      "                   R2 Score  Mean Squared Error  Mean Absolute Error\n",
      "Linear Regression  0.676315           10.186182             2.505418\n",
      "Lasso Regression   0.675808           10.202141             2.507299\n",
      "Ridge Regression   0.676315           10.186186             2.505419\n"
     ]
    }
   ],
   "source": [
    "from sklearn.metrics import mean_squared_error, mean_absolute_error, r2_score\n",
    "\n",
    "metrics_lr = {\n",
    "    'R2 Score': r2_score(y_test, y_pred1),\n",
    "    'Mean Squared Error': mean_squared_error(y_test, y_pred1),\n",
    "    'Mean Absolute Error': mean_absolute_error(y_test, y_pred1)\n",
    "}\n",
    "metrics_lasso = {\n",
    "    'R2 Score': r2_score(y_test, y_pred2),\n",
    "    'Mean Squared Error': mean_squared_error(y_test, y_pred2),\n",
    "    'Mean Absolute Error': mean_absolute_error(y_test, y_pred2)\n",
    "}\n",
    "metrics_ridge = {\n",
    "    'R2 Score': r2_score(y_test, y_pred3),\n",
    "    'Mean Squared Error': mean_squared_error(y_test, y_pred3),\n",
    "    'Mean Absolute Error': mean_absolute_error(y_test, y_pred3)\n",
    "}\n",
    "df = pd.DataFrame([metrics_lr, metrics_lasso, metrics_ridge], index=['Linear Regression', 'Lasso Regression', 'Ridge Regression'])\n",
    "print(df)\n"
   ]
  },
  {
   "cell_type": "markdown",
   "metadata": {},
   "source": [
    "* Every regression model metrics appromexy same score "
   ]
  },
  {
   "cell_type": "code",
   "execution_count": 48,
   "metadata": {},
   "outputs": [
    {
     "name": "stdout",
     "output_type": "stream",
     "text": [
      "     Actual  Predicted_LR  Actual  Predicted_Lasso  Actual  Predicted_Ridge\n",
      "18     11.3     10.476233    11.3        10.487570    11.3        10.476236\n",
      "170     8.4      9.592883     8.4         9.606897     8.4         9.592887\n",
      "107     8.7     11.451598     8.7        11.459980     8.7        11.451600\n",
      "98     25.4     20.620950    25.4        20.601546    25.4        20.620945\n",
      "177    11.7     15.123020    11.7        15.120276    11.7        15.123019\n",
      "182     8.7      9.878132     8.7         9.891281     8.7         9.878135\n",
      "5       7.2      7.692762     7.2         7.712534     7.2         7.692767\n",
      "146    13.2     18.338964    13.2        18.326475    13.2        18.338960\n",
      "12      9.2      8.387479     9.2         8.405146     9.2         8.387484\n",
      "152    16.6     16.383633    16.6        16.377069    16.6        16.383631\n",
      "61     24.2     19.314329    24.2        19.298884    24.2        19.314325\n",
      "125    10.6     11.304373    10.6        11.313201    10.6        11.304376\n",
      "180    10.5     14.497314    10.5        14.496466    10.5        14.497313\n",
      "154    15.6     15.932757    15.6        15.927559    15.6        15.932755\n",
      "80     11.8     10.807489    11.8        10.817822    11.8        10.807492\n",
      "7      13.2     12.822630    13.2        12.826857    13.2        12.822631\n",
      "33     17.4     19.512163    17.4        19.496118    17.4        19.512158\n",
      "130     1.6      7.324699     1.6         7.345587     1.6         7.324705\n",
      "37     14.7     10.729276    14.7        10.739846    14.7        10.729279\n",
      "74     17.0     17.110556    17.0        17.101789    17.0        17.110554\n",
      "183    26.2     20.524334    26.2        20.505222    26.2        20.524329\n",
      "145    10.3     13.747387    10.3        13.748811    10.3        13.747387\n",
      "45     14.9     15.348458    14.9        15.345031    14.9        15.348457\n",
      "159    12.9     13.351720    12.9        13.354343    12.9        13.351720\n",
      "60      8.1      9.753911     8.1         9.767437     8.1         9.753914\n",
      "123    15.2     12.956053    15.2        12.959875    15.2        12.956054\n",
      "179    12.6     14.911384    12.6        14.909281    12.6        14.911383\n",
      "185    22.6     16.724091    22.6        16.716495    22.6        16.724088\n",
      "122    11.6     17.598239    11.6        17.587994    11.6        17.598236\n",
      "44      8.5      8.447289     8.5         8.464775     8.5         8.447294\n",
      "16     12.5     10.411822    12.5        10.423354    12.5        10.411825\n",
      "55     23.7     16.443443    23.7        16.436698    23.7        16.443441\n",
      "150    16.1     20.206880    16.1        20.188731    16.1        20.206875\n",
      "111    21.8     18.412577    21.8        18.399864    21.8        18.412573\n",
      "22      5.6      7.899797     5.6         7.918941     5.6         7.899802\n",
      "189     6.7      8.152839     6.7         8.171217     6.7         8.152845\n",
      "129     9.7     10.034558     9.7        10.047234     9.7        10.034562\n",
      "4      12.9     15.610702    12.9        15.606480    12.9        15.610701\n",
      "83     13.6     10.439427    13.6        10.450875    13.6        10.439430\n",
      "106     7.2      8.442689     7.2         8.460188     7.2         8.442694\n"
     ]
    }
   ],
   "source": [
    "data_lr = {'Actual': y_test, 'Predicted_LR': y_pred1}\n",
    "data_lasso = {'Actual': y_test, 'Predicted_Lasso': y_pred2}\n",
    "data_ridge = {'Actual': y_test, 'Predicted_Ridge': y_pred3}\n",
    "\n",
    "# Concatenate the dictionaries into a single DataFrame\n",
    "df = pd.concat([pd.DataFrame(data_lr), pd.DataFrame(data_lasso), pd.DataFrame(data_ridge)], axis=1)\n",
    "\n",
    "print(df)"
   ]
  },
  {
   "cell_type": "code",
   "execution_count": null,
   "metadata": {},
   "outputs": [],
   "source": []
  }
 ],
 "metadata": {
  "kernelspec": {
   "display_name": "Python 3",
   "language": "python",
   "name": "python3"
  },
  "language_info": {
   "codemirror_mode": {
    "name": "ipython",
    "version": 3
   },
   "file_extension": ".py",
   "mimetype": "text/x-python",
   "name": "python",
   "nbconvert_exporter": "python",
   "pygments_lexer": "ipython3",
   "version": "3.11.4"
  }
 },
 "nbformat": 4,
 "nbformat_minor": 2
}
