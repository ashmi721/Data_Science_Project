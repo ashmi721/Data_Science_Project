{
 "cells": [
  {
   "cell_type": "code",
   "execution_count": 1,
   "metadata": {},
   "outputs": [],
   "source": [
    "import pandas as pd\n",
    "import numpy as np\n",
    "import matplotlib.pyplot as plt\n",
    "import seaborn as sns"
   ]
  },
  {
   "cell_type": "code",
   "execution_count": 2,
   "metadata": {},
   "outputs": [
    {
     "data": {
      "text/html": [
       "<div>\n",
       "<style scoped>\n",
       "    .dataframe tbody tr th:only-of-type {\n",
       "        vertical-align: middle;\n",
       "    }\n",
       "\n",
       "    .dataframe tbody tr th {\n",
       "        vertical-align: top;\n",
       "    }\n",
       "\n",
       "    .dataframe thead th {\n",
       "        text-align: right;\n",
       "    }\n",
       "</style>\n",
       "<table border=\"1\" class=\"dataframe\">\n",
       "  <thead>\n",
       "    <tr style=\"text-align: right;\">\n",
       "      <th></th>\n",
       "      <th>Unnamed: 0</th>\n",
       "      <th>TV</th>\n",
       "      <th>radio</th>\n",
       "      <th>newspaper</th>\n",
       "      <th>sales</th>\n",
       "    </tr>\n",
       "  </thead>\n",
       "  <tbody>\n",
       "    <tr>\n",
       "      <th>0</th>\n",
       "      <td>1</td>\n",
       "      <td>230.1</td>\n",
       "      <td>37.8</td>\n",
       "      <td>69.2</td>\n",
       "      <td>22.1</td>\n",
       "    </tr>\n",
       "    <tr>\n",
       "      <th>1</th>\n",
       "      <td>2</td>\n",
       "      <td>44.5</td>\n",
       "      <td>39.3</td>\n",
       "      <td>45.1</td>\n",
       "      <td>10.4</td>\n",
       "    </tr>\n",
       "    <tr>\n",
       "      <th>2</th>\n",
       "      <td>3</td>\n",
       "      <td>17.2</td>\n",
       "      <td>45.9</td>\n",
       "      <td>69.3</td>\n",
       "      <td>9.3</td>\n",
       "    </tr>\n",
       "    <tr>\n",
       "      <th>3</th>\n",
       "      <td>4</td>\n",
       "      <td>151.5</td>\n",
       "      <td>41.3</td>\n",
       "      <td>58.5</td>\n",
       "      <td>18.5</td>\n",
       "    </tr>\n",
       "    <tr>\n",
       "      <th>4</th>\n",
       "      <td>5</td>\n",
       "      <td>180.8</td>\n",
       "      <td>10.8</td>\n",
       "      <td>58.4</td>\n",
       "      <td>12.9</td>\n",
       "    </tr>\n",
       "  </tbody>\n",
       "</table>\n",
       "</div>"
      ],
      "text/plain": [
       "   Unnamed: 0     TV  radio  newspaper  sales\n",
       "0           1  230.1   37.8       69.2   22.1\n",
       "1           2   44.5   39.3       45.1   10.4\n",
       "2           3   17.2   45.9       69.3    9.3\n",
       "3           4  151.5   41.3       58.5   18.5\n",
       "4           5  180.8   10.8       58.4   12.9"
      ]
     },
     "execution_count": 2,
     "metadata": {},
     "output_type": "execute_result"
    }
   ],
   "source": [
    "df = pd.read_csv(r'C:\\Users\\ashmi\\OneDrive\\Desktop\\Data science project\\Data_Science_Project\\Dataset\\ads.csv')\n",
    "df.head()"
   ]
  },
  {
   "cell_type": "code",
   "execution_count": 3,
   "metadata": {},
   "outputs": [
    {
     "data": {
      "text/plain": [
       "(200, 5)"
      ]
     },
     "execution_count": 3,
     "metadata": {},
     "output_type": "execute_result"
    }
   ],
   "source": [
    "df.shape"
   ]
  },
  {
   "cell_type": "code",
   "execution_count": 4,
   "metadata": {},
   "outputs": [
    {
     "data": {
      "text/plain": [
       "Index(['Unnamed: 0', 'TV', 'radio', 'newspaper', 'sales'], dtype='object')"
      ]
     },
     "execution_count": 4,
     "metadata": {},
     "output_type": "execute_result"
    }
   ],
   "source": [
    "df.columns"
   ]
  },
  {
   "cell_type": "markdown",
   "metadata": {},
   "source": [
    "\n",
    "## Data profiling and Inspection"
   ]
  },
  {
   "cell_type": "code",
   "execution_count": null,
   "metadata": {},
   "outputs": [
    {
     "name": "stdout",
     "output_type": "stream",
     "text": [
      "<class 'pandas.core.frame.DataFrame'>\n",
      "RangeIndex: 200 entries, 0 to 199\n",
      "Data columns (total 5 columns):\n",
      " #   Column      Non-Null Count  Dtype  \n",
      "---  ------      --------------  -----  \n",
      " 0   Unnamed: 0  200 non-null    int64  \n",
      " 1   TV          200 non-null    float64\n",
      " 2   radio       200 non-null    float64\n",
      " 3   newspaper   200 non-null    float64\n",
      " 4   sales       200 non-null    float64\n",
      "dtypes: float64(4), int64(1)\n",
      "memory usage: 7.9 KB\n"
     ]
    }
   ],
   "source": [
    "df.info()"
   ]
  },
  {
   "cell_type": "markdown",
   "metadata": {},
   "source": [
    "* The dataset has 200 entities/rows. However each columns has 200 not-null rows which means 0 rows are missing."
   ]
  },
  {
   "cell_type": "code",
   "execution_count": 9,
   "metadata": {},
   "outputs": [
    {
     "data": {
      "text/html": [
       "<style type=\"text/css\">\n",
       "#T_1b2d7_row3_col0, #T_1b2d7_row3_col1, #T_1b2d7_row3_col2, #T_1b2d7_row3_col3, #T_1b2d7_row3_col4 {\n",
       "  color: Black;\n",
       "  background-color: Grey;\n",
       "}\n",
       "</style>\n",
       "<table id=\"T_1b2d7\">\n",
       "  <thead>\n",
       "    <tr>\n",
       "      <th class=\"blank level0\" >&nbsp;</th>\n",
       "      <th id=\"T_1b2d7_level0_col0\" class=\"col_heading level0 col0\" >Unnamed: 0</th>\n",
       "      <th id=\"T_1b2d7_level0_col1\" class=\"col_heading level0 col1\" >TV</th>\n",
       "      <th id=\"T_1b2d7_level0_col2\" class=\"col_heading level0 col2\" >radio</th>\n",
       "      <th id=\"T_1b2d7_level0_col3\" class=\"col_heading level0 col3\" >newspaper</th>\n",
       "      <th id=\"T_1b2d7_level0_col4\" class=\"col_heading level0 col4\" >sales</th>\n",
       "    </tr>\n",
       "  </thead>\n",
       "  <tbody>\n",
       "    <tr>\n",
       "      <th id=\"T_1b2d7_level0_row0\" class=\"row_heading level0 row0\" >count</th>\n",
       "      <td id=\"T_1b2d7_row0_col0\" class=\"data row0 col0\" >200.000000</td>\n",
       "      <td id=\"T_1b2d7_row0_col1\" class=\"data row0 col1\" >200.000000</td>\n",
       "      <td id=\"T_1b2d7_row0_col2\" class=\"data row0 col2\" >200.000000</td>\n",
       "      <td id=\"T_1b2d7_row0_col3\" class=\"data row0 col3\" >200.000000</td>\n",
       "      <td id=\"T_1b2d7_row0_col4\" class=\"data row0 col4\" >200.000000</td>\n",
       "    </tr>\n",
       "    <tr>\n",
       "      <th id=\"T_1b2d7_level0_row1\" class=\"row_heading level0 row1\" >mean</th>\n",
       "      <td id=\"T_1b2d7_row1_col0\" class=\"data row1 col0\" >100.500000</td>\n",
       "      <td id=\"T_1b2d7_row1_col1\" class=\"data row1 col1\" >147.042500</td>\n",
       "      <td id=\"T_1b2d7_row1_col2\" class=\"data row1 col2\" >23.264000</td>\n",
       "      <td id=\"T_1b2d7_row1_col3\" class=\"data row1 col3\" >30.554000</td>\n",
       "      <td id=\"T_1b2d7_row1_col4\" class=\"data row1 col4\" >14.022500</td>\n",
       "    </tr>\n",
       "    <tr>\n",
       "      <th id=\"T_1b2d7_level0_row2\" class=\"row_heading level0 row2\" >std</th>\n",
       "      <td id=\"T_1b2d7_row2_col0\" class=\"data row2 col0\" >57.879185</td>\n",
       "      <td id=\"T_1b2d7_row2_col1\" class=\"data row2 col1\" >85.854236</td>\n",
       "      <td id=\"T_1b2d7_row2_col2\" class=\"data row2 col2\" >14.846809</td>\n",
       "      <td id=\"T_1b2d7_row2_col3\" class=\"data row2 col3\" >21.778621</td>\n",
       "      <td id=\"T_1b2d7_row2_col4\" class=\"data row2 col4\" >5.217457</td>\n",
       "    </tr>\n",
       "    <tr>\n",
       "      <th id=\"T_1b2d7_level0_row3\" class=\"row_heading level0 row3\" >min</th>\n",
       "      <td id=\"T_1b2d7_row3_col0\" class=\"data row3 col0\" >1.000000</td>\n",
       "      <td id=\"T_1b2d7_row3_col1\" class=\"data row3 col1\" >0.700000</td>\n",
       "      <td id=\"T_1b2d7_row3_col2\" class=\"data row3 col2\" >0.000000</td>\n",
       "      <td id=\"T_1b2d7_row3_col3\" class=\"data row3 col3\" >0.300000</td>\n",
       "      <td id=\"T_1b2d7_row3_col4\" class=\"data row3 col4\" >1.600000</td>\n",
       "    </tr>\n",
       "    <tr>\n",
       "      <th id=\"T_1b2d7_level0_row4\" class=\"row_heading level0 row4\" >25%</th>\n",
       "      <td id=\"T_1b2d7_row4_col0\" class=\"data row4 col0\" >50.750000</td>\n",
       "      <td id=\"T_1b2d7_row4_col1\" class=\"data row4 col1\" >74.375000</td>\n",
       "      <td id=\"T_1b2d7_row4_col2\" class=\"data row4 col2\" >9.975000</td>\n",
       "      <td id=\"T_1b2d7_row4_col3\" class=\"data row4 col3\" >12.750000</td>\n",
       "      <td id=\"T_1b2d7_row4_col4\" class=\"data row4 col4\" >10.375000</td>\n",
       "    </tr>\n",
       "    <tr>\n",
       "      <th id=\"T_1b2d7_level0_row5\" class=\"row_heading level0 row5\" >50%</th>\n",
       "      <td id=\"T_1b2d7_row5_col0\" class=\"data row5 col0\" >100.500000</td>\n",
       "      <td id=\"T_1b2d7_row5_col1\" class=\"data row5 col1\" >149.750000</td>\n",
       "      <td id=\"T_1b2d7_row5_col2\" class=\"data row5 col2\" >22.900000</td>\n",
       "      <td id=\"T_1b2d7_row5_col3\" class=\"data row5 col3\" >25.750000</td>\n",
       "      <td id=\"T_1b2d7_row5_col4\" class=\"data row5 col4\" >12.900000</td>\n",
       "    </tr>\n",
       "    <tr>\n",
       "      <th id=\"T_1b2d7_level0_row6\" class=\"row_heading level0 row6\" >75%</th>\n",
       "      <td id=\"T_1b2d7_row6_col0\" class=\"data row6 col0\" >150.250000</td>\n",
       "      <td id=\"T_1b2d7_row6_col1\" class=\"data row6 col1\" >218.825000</td>\n",
       "      <td id=\"T_1b2d7_row6_col2\" class=\"data row6 col2\" >36.525000</td>\n",
       "      <td id=\"T_1b2d7_row6_col3\" class=\"data row6 col3\" >45.100000</td>\n",
       "      <td id=\"T_1b2d7_row6_col4\" class=\"data row6 col4\" >17.400000</td>\n",
       "    </tr>\n",
       "    <tr>\n",
       "      <th id=\"T_1b2d7_level0_row7\" class=\"row_heading level0 row7\" >max</th>\n",
       "      <td id=\"T_1b2d7_row7_col0\" class=\"data row7 col0\" >200.000000</td>\n",
       "      <td id=\"T_1b2d7_row7_col1\" class=\"data row7 col1\" >296.400000</td>\n",
       "      <td id=\"T_1b2d7_row7_col2\" class=\"data row7 col2\" >49.600000</td>\n",
       "      <td id=\"T_1b2d7_row7_col3\" class=\"data row7 col3\" >114.000000</td>\n",
       "      <td id=\"T_1b2d7_row7_col4\" class=\"data row7 col4\" >27.000000</td>\n",
       "    </tr>\n",
       "  </tbody>\n",
       "</table>\n"
      ],
      "text/plain": [
       "<pandas.io.formats.style.Styler at 0x29dafa0b510>"
      ]
     },
     "execution_count": 9,
     "metadata": {},
     "output_type": "execute_result"
    }
   ],
   "source": [
    "\n",
    "#This function highlight the minimum values for every columns\n",
    "def highlight_min(s,props = ''):\n",
    "    return np.where(s == np.nanmin(s.values), props,'')\n",
    "\n",
    "df.describe().style.apply(highlight_min,props='color:Black;background-color:Grey')"
   ]
  },
  {
   "cell_type": "markdown",
   "metadata": {},
   "source": [
    "This summary shows the radio columns has minimum values of below zero(0).\n",
    "\n",
    "So, on these columns, a value of Zero does not make sense and thus indicates missing value.\n",
    "\n"
   ]
  },
  {
   "cell_type": "code",
   "execution_count": 7,
   "metadata": {},
   "outputs": [
    {
     "data": {
      "text/plain": [
       "Unnamed: 0    0\n",
       "TV            0\n",
       "radio         0\n",
       "newspaper     0\n",
       "sales         0\n",
       "dtype: int64"
      ]
     },
     "execution_count": 7,
     "metadata": {},
     "output_type": "execute_result"
    }
   ],
   "source": [
    "df.isna().sum()"
   ]
  },
  {
   "cell_type": "markdown",
   "metadata": {},
   "source": [
    "<b> Missing data Handling</b>"
   ]
  },
  {
   "cell_type": "code",
   "execution_count": 10,
   "metadata": {},
   "outputs": [],
   "source": [
    "df_new = df\n",
    "df_new[['radio']] = df_new[['radio']].replace(0,np.NaN)"
   ]
  },
  {
   "cell_type": "code",
   "execution_count": 11,
   "metadata": {},
   "outputs": [
    {
     "data": {
      "text/plain": [
       "Unnamed: 0    0\n",
       "TV            0\n",
       "radio         1\n",
       "newspaper     0\n",
       "sales         0\n",
       "dtype: int64"
      ]
     },
     "execution_count": 11,
     "metadata": {},
     "output_type": "execute_result"
    }
   ],
   "source": [
    "df.isna().sum()"
   ]
  },
  {
   "cell_type": "code",
   "execution_count": 12,
   "metadata": {},
   "outputs": [
    {
     "data": {
      "text/plain": [
       "<Axes: >"
      ]
     },
     "execution_count": 12,
     "metadata": {},
     "output_type": "execute_result"
    },
    {
     "data": {
      "image/png": "[encoded data removed]",
      "text/plain": [
       "<Figure size 640x480 with 1 Axes>"
      ]
     },
     "metadata": {},
     "output_type": "display_data"
    }
   ],
   "source": [
    "# To visulize the outlier\n",
    "sns.boxplot(df)"
   ]
  },
  {
   "cell_type": "code",
   "execution_count": 13,
   "metadata": {},
   "outputs": [],
   "source": [
    "df_new['radio'].fillna(df_new['radio'].mean(),inplace=True) "
   ]
  },
  {
   "cell_type": "code",
   "execution_count": 14,
   "metadata": {},
   "outputs": [
    {
     "data": {
      "text/plain": [
       "Unnamed: 0    0\n",
       "TV            0\n",
       "radio         0\n",
       "newspaper     0\n",
       "sales         0\n",
       "dtype: int64"
      ]
     },
     "execution_count": 14,
     "metadata": {},
     "output_type": "execute_result"
    }
   ],
   "source": [
    "df.isna().sum()"
   ]
  },
  {
   "cell_type": "code",
   "execution_count": null,
   "metadata": {},
   "outputs": [],
   "source": []
  }
 ],
 "metadata": {
  "kernelspec": {
   "display_name": "Python 3",
   "language": "python",
   "name": "python3"
  },
  "language_info": {
   "codemirror_mode": {
    "name": "ipython",
    "version": 3
   },
   "file_extension": ".py",
   "mimetype": "text/x-python",
   "name": "python",
   "nbconvert_exporter": "python",
   "pygments_lexer": "ipython3",
   "version": "3.11.4"
  }
 },
 "nbformat": 4,
 "nbformat_minor": 2
}
